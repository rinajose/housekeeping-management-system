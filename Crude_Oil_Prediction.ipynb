{
  "nbformat": 4,
  "nbformat_minor": 0,
  "metadata": {
    "colab": {
      "provenance": [],
      "collapsed_sections": [],
      "authorship_tag": "ABX9TyMIfk7mPiIrnpj+9NTZF3a1",
      "include_colab_link": true
    },
    "kernelspec": {
      "name": "python3",
      "display_name": "Python 3"
    },
    "language_info": {
      "name": "python"
    }
  },
  "cells": [
    {
      "cell_type": "markdown",
      "metadata": {
        "id": "view-in-github",
        "colab_type": "text"
      },
      "source": [
        "<a href=\"https://colab.research.google.com/github/rinajose/housekeeping-management-system/blob/main/Crude_Oil_Prediction.ipynb\" target=\"_parent\"><img src=\"https://colab.research.google.com/assets/colab-badge.svg\" alt=\"Open In Colab\"/></a>"
      ]
    },
    {
      "cell_type": "code",
      "execution_count": 1,
      "metadata": {
        "id": "gMYdEoHq-oKE"
      },
      "outputs": [],
      "source": [
        "import pandas as pd\n",
        "import numpy as np\n",
        "import matplotlib.pyplot as plt\n"
      ]
    },
    {
      "cell_type": "code",
      "source": [
        "data=pd.read_excel(\"/content/Crude Oil Prices Daily.xlsx\")"
      ],
      "metadata": {
        "id": "gmhtVZLW_Ghh"
      },
      "execution_count": 2,
      "outputs": []
    },
    {
      "cell_type": "code",
      "source": [
        "data.isnull().any()"
      ],
      "metadata": {
        "colab": {
          "base_uri": "https://localhost:8080/"
        },
        "id": "N-TTvICd_RdY",
        "outputId": "15b81b19-b4bc-4bf0-c681-b70dc92f5c37"
      },
      "execution_count": 3,
      "outputs": [
        {
          "output_type": "execute_result",
          "data": {
            "text/plain": [
              "Date             False\n",
              "Closing Value     True\n",
              "dtype: bool"
            ]
          },
          "metadata": {},
          "execution_count": 3
        }
      ]
    },
    {
      "cell_type": "code",
      "source": [
        "data.isnull().sum()"
      ],
      "metadata": {
        "colab": {
          "base_uri": "https://localhost:8080/"
        },
        "id": "XZ2t4xPq_Wan",
        "outputId": "9acfa3b5-0d7c-4e0c-95eb-cfa7e424be46"
      },
      "execution_count": 4,
      "outputs": [
        {
          "output_type": "execute_result",
          "data": {
            "text/plain": [
              "Date             0\n",
              "Closing Value    7\n",
              "dtype: int64"
            ]
          },
          "metadata": {},
          "execution_count": 4
        }
      ]
    },
    {
      "cell_type": "code",
      "source": [
        "data.dropna(axis=0,inplace=True)"
      ],
      "metadata": {
        "id": "5Td0P9d2_aKw"
      },
      "execution_count": 5,
      "outputs": []
    },
    {
      "cell_type": "code",
      "source": [
        "data.isnull().sum()"
      ],
      "metadata": {
        "colab": {
          "base_uri": "https://localhost:8080/"
        },
        "id": "E4xiOaaP_hLy",
        "outputId": "91e95e8e-4ea9-433c-f66b-00d21546b2a7"
      },
      "execution_count": 6,
      "outputs": [
        {
          "output_type": "execute_result",
          "data": {
            "text/plain": [
              "Date             0\n",
              "Closing Value    0\n",
              "dtype: int64"
            ]
          },
          "metadata": {},
          "execution_count": 6
        }
      ]
    },
    {
      "cell_type": "code",
      "source": [
        "data_oil=data.reset_index()['Closing Value']\n",
        "data_oil"
      ],
      "metadata": {
        "colab": {
          "base_uri": "https://localhost:8080/"
        },
        "id": "hCIMsLTG_mLH",
        "outputId": "6d0251a9-76a6-4963-aa48-49a8ce6b1f72"
      },
      "execution_count": 7,
      "outputs": [
        {
          "output_type": "execute_result",
          "data": {
            "text/plain": [
              "0       25.56\n",
              "1       26.00\n",
              "2       26.53\n",
              "3       25.85\n",
              "4       25.87\n",
              "        ...  \n",
              "8211    73.89\n",
              "8212    74.19\n",
              "8213    73.05\n",
              "8214    73.78\n",
              "8215    73.93\n",
              "Name: Closing Value, Length: 8216, dtype: float64"
            ]
          },
          "metadata": {},
          "execution_count": 7
        }
      ]
    },
    {
      "cell_type": "code",
      "source": [
        "from sklearn.preprocessing import MinMaxScaler\n",
        "scaler=MinMaxScaler(feature_range=(0,1))\n",
        "data_oil=scaler.fit_transform(np.array(data_oil).reshape(-1,1))"
      ],
      "metadata": {
        "id": "nJPq_3ep_xE-"
      },
      "execution_count": 8,
      "outputs": []
    },
    {
      "cell_type": "code",
      "source": [
        "data_oil"
      ],
      "metadata": {
        "colab": {
          "base_uri": "https://localhost:8080/"
        },
        "id": "SYKkDj5vAHem",
        "outputId": "ce8c3c7a-7f58-4c36-9aae-10537ffa5ec4"
      },
      "execution_count": 9,
      "outputs": [
        {
          "output_type": "execute_result",
          "data": {
            "text/plain": [
              "array([[0.11335703],\n",
              "       [0.11661484],\n",
              "       [0.12053902],\n",
              "       ...,\n",
              "       [0.46497853],\n",
              "       [0.47038353],\n",
              "       [0.47149415]])"
            ]
          },
          "metadata": {},
          "execution_count": 9
        }
      ]
    },
    {
      "cell_type": "code",
      "source": [
        "plt.plot(data_oil)"
      ],
      "metadata": {
        "colab": {
          "base_uri": "https://localhost:8080/",
          "height": 282
        },
        "id": "NEJmc3gQAJ5F",
        "outputId": "1256eeea-f812-43db-e405-14dbb2ab5e4f"
      },
      "execution_count": 10,
      "outputs": [
        {
          "output_type": "execute_result",
          "data": {
            "text/plain": [
              "[<matplotlib.lines.Line2D at 0x7f8f10d86ed0>]"
            ]
          },
          "metadata": {},
          "execution_count": 10
        },
        {
          "output_type": "display_data",
          "data": {
            "text/plain": [
              "<Figure size 432x288 with 1 Axes>"
            ],
            "image/png": "[encoded data removed]"
          },
          "metadata": {
            "needs_background": "light"
          }
        }
      ]
    },
    {
      "cell_type": "code",
      "source": [
        "training_size=int(len(data_oil)*0.65)\n",
        "test_size=len(data_oil)-training_size\n",
        "train_data,test_data=data_oil[0:training_size,:],data_oil[training_size:len(data_oil),:1]"
      ],
      "metadata": {
        "id": "C9pYgejLAPns"
      },
      "execution_count": 11,
      "outputs": []
    },
    {
      "cell_type": "code",
      "source": [
        "training_size,test_size"
      ],
      "metadata": {
        "colab": {
          "base_uri": "https://localhost:8080/"
        },
        "id": "k89wWlnmAo6U",
        "outputId": "ab5c328b-3949-4d9c-fbcc-29f093f6f32d"
      },
      "execution_count": 12,
      "outputs": [
        {
          "output_type": "execute_result",
          "data": {
            "text/plain": [
              "(5340, 2876)"
            ]
          },
          "metadata": {},
          "execution_count": 12
        }
      ]
    },
    {
      "cell_type": "code",
      "source": [
        "train_data.shape"
      ],
      "metadata": {
        "colab": {
          "base_uri": "https://localhost:8080/"
        },
        "id": "hvzEBVyUAr-T",
        "outputId": "aac8b3e4-f16c-4c13-b50e-a202320c1b9d"
      },
      "execution_count": 13,
      "outputs": [
        {
          "output_type": "execute_result",
          "data": {
            "text/plain": [
              "(5340, 1)"
            ]
          },
          "metadata": {},
          "execution_count": 13
        }
      ]
    },
    {
      "cell_type": "code",
      "source": [
        "def create_dataset(dataset,time_step=1):\n",
        "  dataX,dataY=[],[]\n",
        "  for i in range(len(dataset)-time_step-1):\n",
        "    a=dataset[i:(i+time_step),0]\n",
        "    dataX.append(a)\n",
        "    dataY.append(dataset[i+time_step,0])\n",
        "  return np.array(dataX),np.array(dataY)"
      ],
      "metadata": {
        "id": "-YpjHQdPAu1r"
      },
      "execution_count": 14,
      "outputs": []
    },
    {
      "cell_type": "code",
      "source": [
        "time_step=10\n",
        "x_train,y_train=create_dataset(train_data,time_step)\n",
        "x_test,y_test=create_dataset(test_data,time_step)"
      ],
      "metadata": {
        "id": "DDWunzVjBOs0"
      },
      "execution_count": 15,
      "outputs": []
    },
    {
      "cell_type": "code",
      "source": [
        "print(x_train.shape),print(y_train.shape)"
      ],
      "metadata": {
        "colab": {
          "base_uri": "https://localhost:8080/"
        },
        "id": "5hHUEc_WBhOZ",
        "outputId": "1deb98bb-5c87-4a7b-8972-c61edd9bc685"
      },
      "execution_count": 16,
      "outputs": [
        {
          "output_type": "stream",
          "name": "stdout",
          "text": [
            "(5329, 10)\n",
            "(5329,)\n"
          ]
        },
        {
          "output_type": "execute_result",
          "data": {
            "text/plain": [
              "(None, None)"
            ]
          },
          "metadata": {},
          "execution_count": 16
        }
      ]
    },
    {
      "cell_type": "code",
      "source": [
        "print(x_test.shape),print(y_test.shape)"
      ],
      "metadata": {
        "colab": {
          "base_uri": "https://localhost:8080/"
        },
        "id": "-rAmRqsbBnlg",
        "outputId": "5e09783e-02e8-48c1-d4ae-e472255c95f8"
      },
      "execution_count": 17,
      "outputs": [
        {
          "output_type": "stream",
          "name": "stdout",
          "text": [
            "(2865, 10)\n",
            "(2865,)\n"
          ]
        },
        {
          "output_type": "execute_result",
          "data": {
            "text/plain": [
              "(None, None)"
            ]
          },
          "metadata": {},
          "execution_count": 17
        }
      ]
    },
    {
      "cell_type": "code",
      "source": [
        "x_train"
      ],
      "metadata": {
        "colab": {
          "base_uri": "https://localhost:8080/"
        },
        "id": "zd-z5Ib8BwGP",
        "outputId": "1138b29b-3a6a-481b-85bf-7b315dc74b96"
      },
      "execution_count": 18,
      "outputs": [
        {
          "output_type": "execute_result",
          "data": {
            "text/plain": [
              "array([[0.11335703, 0.11661484, 0.12053902, ..., 0.10980305, 0.1089886 ,\n",
              "        0.11054346],\n",
              "       [0.11661484, 0.12053902, 0.11550422, ..., 0.1089886 , 0.11054346,\n",
              "        0.10165852],\n",
              "       [0.12053902, 0.11550422, 0.1156523 , ..., 0.11054346, 0.10165852,\n",
              "        0.09906708],\n",
              "       ...,\n",
              "       [0.36731823, 0.35176958, 0.36080261, ..., 0.36391234, 0.37042796,\n",
              "        0.37042796],\n",
              "       [0.35176958, 0.36080261, 0.35354657, ..., 0.37042796, 0.37042796,\n",
              "        0.37879461],\n",
              "       [0.36080261, 0.35354657, 0.35295424, ..., 0.37042796, 0.37879461,\n",
              "        0.37916482]])"
            ]
          },
          "metadata": {},
          "execution_count": 18
        }
      ]
    },
    {
      "cell_type": "code",
      "source": [
        "x_train=x_train.reshape(x_train.shape[0],x_train.shape[1],1)\n",
        "x_test=x_test.reshape(x_test.shape[0],x_test.shape[1],1)"
      ],
      "metadata": {
        "id": "BsJsc-dzBzPI"
      },
      "execution_count": 19,
      "outputs": []
    },
    {
      "cell_type": "code",
      "source": [
        "from tensorflow.keras.models import Sequential\n",
        "from tensorflow.keras.layers import Dense\n",
        "from tensorflow.keras.layers import LSTM"
      ],
      "metadata": {
        "id": "Nti1iMdXCFHH"
      },
      "execution_count": 20,
      "outputs": []
    },
    {
      "cell_type": "code",
      "source": [
        "model=Sequential()"
      ],
      "metadata": {
        "id": "5Bbk8sA6CWWd"
      },
      "execution_count": 21,
      "outputs": []
    },
    {
      "cell_type": "code",
      "source": [
        "model.add(LSTM(50,return_sequences=True,input_shape=(10,1)))\n",
        "model.add(LSTM(50,return_sequences=True))\n",
        "model.add(LSTM(50))"
      ],
      "metadata": {
        "id": "gciW66VECcKl"
      },
      "execution_count": 22,
      "outputs": []
    },
    {
      "cell_type": "code",
      "source": [
        "model.add(Dense(1))"
      ],
      "metadata": {
        "id": "PI_o_1SNC0jV"
      },
      "execution_count": 23,
      "outputs": []
    },
    {
      "cell_type": "code",
      "source": [
        "model.summary()"
      ],
      "metadata": {
        "colab": {
          "base_uri": "https://localhost:8080/"
        },
        "id": "y_QQbjo2C7z0",
        "outputId": "0c736ced-0217-47a4-dad5-c92fbe60ec03"
      },
      "execution_count": 24,
      "outputs": [
        {
          "output_type": "stream",
          "name": "stdout",
          "text": [
            "Model: \"sequential\"\n",
            "_________________________________________________________________\n",
            " Layer (type)                Output Shape              Param #   \n",
            "=================================================================\n",
            " lstm (LSTM)                 (None, 10, 50)            10400     \n",
            "                                                                 \n",
            " lstm_1 (LSTM)               (None, 10, 50)            20200     \n",
            "                                                                 \n",
            " lstm_2 (LSTM)               (None, 50)                20200     \n",
            "                                                                 \n",
            " dense (Dense)               (None, 1)                 51        \n",
            "                                                                 \n",
            "=================================================================\n",
            "Total params: 50,851\n",
            "Trainable params: 50,851\n",
            "Non-trainable params: 0\n",
            "_________________________________________________________________\n"
          ]
        }
      ]
    },
    {
      "cell_type": "code",
      "source": [
        "model.compile(loss='mean_squared_error',optimizer='adam')"
      ],
      "metadata": {
        "id": "9-EcjJXFDAvc"
      },
      "execution_count": 25,
      "outputs": []
    },
    {
      "cell_type": "code",
      "source": [
        "model.fit(x_train,y_train,validation_data=(x_test,y_test),epochs=50,batch_size=64,verbose=1)"
      ],
      "metadata": {
        "colab": {
          "base_uri": "https://localhost:8080/"
        },
        "id": "Jmk2fEa4DItV",
        "outputId": "6497f3e2-9350-4b11-ace9-09476c2257fd"
      },
      "execution_count": 26,
      "outputs": [
        {
          "output_type": "stream",
          "name": "stdout",
          "text": [
            "Epoch 1/50\n",
            "84/84 [==============================] - 17s 46ms/step - loss: 0.0021 - val_loss: 9.6819e-04\n",
            "Epoch 2/50\n",
            "84/84 [==============================] - 2s 27ms/step - loss: 1.2616e-04 - val_loss: 8.1204e-04\n",
            "Epoch 3/50\n",
            "84/84 [==============================] - 2s 27ms/step - loss: 1.2700e-04 - val_loss: 8.0914e-04\n",
            "Epoch 4/50\n",
            "84/84 [==============================] - 2s 26ms/step - loss: 1.2265e-04 - val_loss: 0.0015\n",
            "Epoch 5/50\n",
            "84/84 [==============================] - 2s 26ms/step - loss: 1.2450e-04 - val_loss: 0.0011\n",
            "Epoch 6/50\n",
            "84/84 [==============================] - 2s 27ms/step - loss: 1.3076e-04 - val_loss: 9.6061e-04\n",
            "Epoch 7/50\n",
            "84/84 [==============================] - 2s 28ms/step - loss: 1.1692e-04 - val_loss: 8.5744e-04\n",
            "Epoch 8/50\n",
            "84/84 [==============================] - 2s 27ms/step - loss: 1.1718e-04 - val_loss: 9.3617e-04\n",
            "Epoch 9/50\n",
            "84/84 [==============================] - 2s 27ms/step - loss: 1.2088e-04 - val_loss: 8.4964e-04\n",
            "Epoch 10/50\n",
            "84/84 [==============================] - 2s 26ms/step - loss: 1.1961e-04 - val_loss: 8.7151e-04\n",
            "Epoch 11/50\n",
            "84/84 [==============================] - 2s 27ms/step - loss: 1.1908e-04 - val_loss: 7.1266e-04\n",
            "Epoch 12/50\n",
            "84/84 [==============================] - 2s 28ms/step - loss: 1.1103e-04 - val_loss: 9.4795e-04\n",
            "Epoch 13/50\n",
            "84/84 [==============================] - 2s 28ms/step - loss: 1.1527e-04 - val_loss: 7.5946e-04\n",
            "Epoch 14/50\n",
            "84/84 [==============================] - 3s 35ms/step - loss: 1.0434e-04 - val_loss: 5.7979e-04\n",
            "Epoch 15/50\n",
            "84/84 [==============================] - 2s 27ms/step - loss: 1.1509e-04 - val_loss: 6.2724e-04\n",
            "Epoch 16/50\n",
            "84/84 [==============================] - 2s 27ms/step - loss: 1.0306e-04 - val_loss: 8.1511e-04\n",
            "Epoch 17/50\n",
            "84/84 [==============================] - 2s 26ms/step - loss: 9.3834e-05 - val_loss: 6.6144e-04\n",
            "Epoch 18/50\n",
            "84/84 [==============================] - 2s 27ms/step - loss: 9.2175e-05 - val_loss: 5.9089e-04\n",
            "Epoch 19/50\n",
            "84/84 [==============================] - 2s 27ms/step - loss: 9.1086e-05 - val_loss: 5.1469e-04\n",
            "Epoch 20/50\n",
            "84/84 [==============================] - 2s 27ms/step - loss: 8.3694e-05 - val_loss: 5.2802e-04\n",
            "Epoch 21/50\n",
            "84/84 [==============================] - 2s 27ms/step - loss: 7.8569e-05 - val_loss: 4.2476e-04\n",
            "Epoch 22/50\n",
            "84/84 [==============================] - 2s 27ms/step - loss: 7.5457e-05 - val_loss: 3.7903e-04\n",
            "Epoch 23/50\n",
            "84/84 [==============================] - 2s 27ms/step - loss: 7.3542e-05 - val_loss: 3.5355e-04\n",
            "Epoch 24/50\n",
            "84/84 [==============================] - 2s 27ms/step - loss: 7.1914e-05 - val_loss: 5.3045e-04\n",
            "Epoch 25/50\n",
            "84/84 [==============================] - 2s 28ms/step - loss: 7.2306e-05 - val_loss: 9.2535e-04\n",
            "Epoch 26/50\n",
            "84/84 [==============================] - 2s 28ms/step - loss: 6.7716e-05 - val_loss: 4.1662e-04\n",
            "Epoch 27/50\n",
            "84/84 [==============================] - 2s 27ms/step - loss: 6.9165e-05 - val_loss: 4.0233e-04\n",
            "Epoch 28/50\n",
            "84/84 [==============================] - 2s 26ms/step - loss: 6.3388e-05 - val_loss: 5.5395e-04\n",
            "Epoch 29/50\n",
            "84/84 [==============================] - 2s 26ms/step - loss: 6.2071e-05 - val_loss: 2.6950e-04\n",
            "Epoch 30/50\n",
            "84/84 [==============================] - 2s 26ms/step - loss: 5.8570e-05 - val_loss: 2.7105e-04\n",
            "Epoch 31/50\n",
            "84/84 [==============================] - 2s 28ms/step - loss: 5.8285e-05 - val_loss: 3.4964e-04\n",
            "Epoch 32/50\n",
            "84/84 [==============================] - 3s 41ms/step - loss: 5.8073e-05 - val_loss: 6.1702e-04\n",
            "Epoch 33/50\n",
            "84/84 [==============================] - 2s 27ms/step - loss: 6.0387e-05 - val_loss: 2.8539e-04\n",
            "Epoch 34/50\n",
            "84/84 [==============================] - 2s 27ms/step - loss: 4.9787e-05 - val_loss: 2.3249e-04\n",
            "Epoch 35/50\n",
            "84/84 [==============================] - 2s 27ms/step - loss: 4.9932e-05 - val_loss: 4.1443e-04\n",
            "Epoch 36/50\n",
            "84/84 [==============================] - 2s 26ms/step - loss: 4.5548e-05 - val_loss: 2.4037e-04\n",
            "Epoch 37/50\n",
            "84/84 [==============================] - 2s 27ms/step - loss: 4.3476e-05 - val_loss: 1.9451e-04\n",
            "Epoch 38/50\n",
            "84/84 [==============================] - 2s 26ms/step - loss: 4.6918e-05 - val_loss: 3.8286e-04\n",
            "Epoch 39/50\n",
            "84/84 [==============================] - 2s 27ms/step - loss: 3.9167e-05 - val_loss: 2.0039e-04\n",
            "Epoch 40/50\n",
            "84/84 [==============================] - 2s 27ms/step - loss: 4.3591e-05 - val_loss: 1.9928e-04\n",
            "Epoch 41/50\n",
            "84/84 [==============================] - 2s 27ms/step - loss: 3.6748e-05 - val_loss: 1.8638e-04\n",
            "Epoch 42/50\n",
            "84/84 [==============================] - 2s 27ms/step - loss: 3.8107e-05 - val_loss: 1.7795e-04\n",
            "Epoch 43/50\n",
            "84/84 [==============================] - 2s 27ms/step - loss: 3.7941e-05 - val_loss: 2.5148e-04\n",
            "Epoch 44/50\n",
            "84/84 [==============================] - 2s 27ms/step - loss: 3.5227e-05 - val_loss: 2.5897e-04\n",
            "Epoch 45/50\n",
            "84/84 [==============================] - 2s 27ms/step - loss: 3.3469e-05 - val_loss: 1.8843e-04\n",
            "Epoch 46/50\n",
            "84/84 [==============================] - 2s 26ms/step - loss: 3.6330e-05 - val_loss: 1.7460e-04\n",
            "Epoch 47/50\n",
            "84/84 [==============================] - 2s 27ms/step - loss: 3.4337e-05 - val_loss: 2.1254e-04\n",
            "Epoch 48/50\n",
            "84/84 [==============================] - 2s 26ms/step - loss: 3.4794e-05 - val_loss: 4.7355e-04\n",
            "Epoch 49/50\n",
            "84/84 [==============================] - 2s 26ms/step - loss: 3.4560e-05 - val_loss: 1.8348e-04\n",
            "Epoch 50/50\n",
            "84/84 [==============================] - 2s 27ms/step - loss: 3.3501e-05 - val_loss: 2.8362e-04\n"
          ]
        },
        {
          "output_type": "execute_result",
          "data": {
            "text/plain": [
              "<keras.callbacks.History at 0x7f8eac738fd0>"
            ]
          },
          "metadata": {},
          "execution_count": 26
        }
      ]
    },
    {
      "cell_type": "code",
      "source": [
        "##Transformback to original form\n",
        "train_predict=scaler.inverse_transform(train_data) \n",
        "test_predict=scaler.inverse_transform(test_data)\n",
        "### Calculate RMSE performance metrics\n",
        "import math \n",
        "from sklearn.metrics import mean_squared_error\n",
        "math.sqrt(mean_squared_error(train_data,train_predict))"
      ],
      "metadata": {
        "colab": {
          "base_uri": "https://localhost:8080/"
        },
        "id": "vtdx97vxH4hF",
        "outputId": "5c691fe3-fa4c-4839-cc63-26756c704840"
      },
      "execution_count": 27,
      "outputs": [
        {
          "output_type": "execute_result",
          "data": {
            "text/plain": [
              "29.347830443269938"
            ]
          },
          "metadata": {},
          "execution_count": 27
        }
      ]
    },
    {
      "cell_type": "code",
      "source": [
        "from tensorflow.keras.models import load_model"
      ],
      "metadata": {
        "id": "BBanpJ69H6Hh"
      },
      "execution_count": 28,
      "outputs": []
    },
    {
      "cell_type": "code",
      "source": [
        "model.save(\"crude_oil.hs\")"
      ],
      "metadata": {
        "colab": {
          "base_uri": "https://localhost:8080/"
        },
        "id": "jYCE9HozIqOa",
        "outputId": "f7b49014-c3d1-4133-b23c-bac90f10ae68"
      },
      "execution_count": 29,
      "outputs": [
        {
          "output_type": "stream",
          "name": "stderr",
          "text": [
            "WARNING:absl:Found untraced functions such as lstm_cell_layer_call_fn, lstm_cell_layer_call_and_return_conditional_losses, lstm_cell_1_layer_call_fn, lstm_cell_1_layer_call_and_return_conditional_losses, lstm_cell_2_layer_call_fn while saving (showing 5 of 6). These functions will not be directly callable after loading.\n",
            "WARNING:absl:<keras.layers.recurrent.LSTMCell object at 0x7f8eb0756950> has the same name 'LSTMCell' as a built-in Keras object. Consider renaming <class 'keras.layers.recurrent.LSTMCell'> to avoid naming conflicts when loading with `tf.keras.models.load_model`. If renaming is not possible, pass the object in the `custom_objects` parameter of the load function.\n",
            "WARNING:absl:<keras.layers.recurrent.LSTMCell object at 0x7f8eac9b1310> has the same name 'LSTMCell' as a built-in Keras object. Consider renaming <class 'keras.layers.recurrent.LSTMCell'> to avoid naming conflicts when loading with `tf.keras.models.load_model`. If renaming is not possible, pass the object in the `custom_objects` parameter of the load function.\n",
            "WARNING:absl:<keras.layers.recurrent.LSTMCell object at 0x7f8eac878d90> has the same name 'LSTMCell' as a built-in Keras object. Consider renaming <class 'keras.layers.recurrent.LSTMCell'> to avoid naming conflicts when loading with `tf.keras.models.load_model`. If renaming is not possible, pass the object in the `custom_objects` parameter of the load function.\n"
          ]
        }
      ]
    },
    {
      "cell_type": "code",
      "source": [
        "### Plotting\n",
        "look_back=10\n",
        "trainpredictPlot = np.empty_like(data_oil)\n",
        "trainpredictPlot[:, :]= np.nan\n",
        "trainpredictPlot[look_back:len(train_predict)+look_back, :] = train_predict\n",
        "# shift test predictions for plotting\n",
        "testPredictplot = np.empty_like(data_oil)\n",
        "testPredictplot[:,: ] = np.nan\n",
        "testPredictplot[look_back:len(test_predict)+look_back, :] = test_predict\n",
        "# plot baseline and predictions\n",
        "plt.plot(scaler.inverse_transform(data_oil))\n",
        "plt.show()"
      ],
      "metadata": {
        "colab": {
          "base_uri": "https://localhost:8080/",
          "height": 265
        },
        "id": "L-6vXuAYJkcu",
        "outputId": "81ca895e-906c-45b3-d4ba-f589824cb2d4"
      },
      "execution_count": 30,
      "outputs": [
        {
          "output_type": "display_data",
          "data": {
            "text/plain": [
              "<Figure size 432x288 with 1 Axes>"
            ],
            "image/png": "[encoded data removed]"
          },
          "metadata": {
            "needs_background": "light"
          }
        }
      ]
    },
    {
      "cell_type": "code",
      "source": [
        "len(test_data)"
      ],
      "metadata": {
        "id": "g_YckjXtLJNC",
        "colab": {
          "base_uri": "https://localhost:8080/"
        },
        "outputId": "c65b6cb5-d233-40eb-fef4-b4623560b98a"
      },
      "execution_count": 31,
      "outputs": [
        {
          "output_type": "execute_result",
          "data": {
            "text/plain": [
              "2876"
            ]
          },
          "metadata": {},
          "execution_count": 31
        }
      ]
    },
    {
      "cell_type": "code",
      "source": [
        "x_input=test_data[2866:].reshape(1,-1)\n",
        "x_input.shape"
      ],
      "metadata": {
        "id": "RgawVIleLW-v",
        "colab": {
          "base_uri": "https://localhost:8080/"
        },
        "outputId": "8cc5dfd2-b019-40a7-f3c6-898802ac7ec0"
      },
      "execution_count": 32,
      "outputs": [
        {
          "output_type": "execute_result",
          "data": {
            "text/plain": [
              "(1, 10)"
            ]
          },
          "metadata": {},
          "execution_count": 32
        }
      ]
    },
    {
      "cell_type": "code",
      "source": [
        "temp_input=list(x_input) \n",
        "temp_input=temp_input[0].tolist()"
      ],
      "metadata": {
        "id": "1g1Iu241LcWh"
      },
      "execution_count": 33,
      "outputs": []
    },
    {
      "cell_type": "code",
      "source": [
        "temp_input"
      ],
      "metadata": {
        "colab": {
          "base_uri": "https://localhost:8080/"
        },
        "id": "529unKThLeVQ",
        "outputId": "27360a4b-cb7e-46cf-a4a7-bcd544a7c3d2"
      },
      "execution_count": 34,
      "outputs": [
        {
          "output_type": "execute_result",
          "data": {
            "text/plain": [
              "[0.44172960165852215,\n",
              " 0.48111950244335855,\n",
              " 0.49726047682511476,\n",
              " 0.4679401747371539,\n",
              " 0.4729749740855915,\n",
              " 0.47119798608026064,\n",
              " 0.47341922108692425,\n",
              " 0.4649785280616022,\n",
              " 0.4703835332444839,\n",
              " 0.47149415074781587]"
            ]
          },
          "metadata": {},
          "execution_count": 34
        }
      ]
    },
    {
      "cell_type": "code",
      "source": [
        "lst_output=[]\n",
        "n_steps=10\n",
        "i=0\n",
        "while(i<10):\n",
        "    if(len(temp_input)>10):\n",
        "#print(temp_input)\n",
        "       x_input=np.array(temp_input[1:]) \n",
        "       print(\"{} day input {}\".format(i,x_input))\n",
        "       x_input=x_input.reshape(1,-1)\n",
        "       x_input = x_input.reshape((1, n_steps, 1)) #print(x_input)\n",
        "       yhat = model.predict(x_input, verbose=0)\n",
        "       print(\"{} day output {}\".format(i,yhat))\n",
        "       temp_input.extend(yhat[0].tolist())\n",
        "       temp_input=temp_input[1:] #print(temp_input)\n",
        "       lst_output.extend(yhat.tolist())\n",
        "       i=i+1\n",
        "    else:\n",
        "       x_input = x_input.reshape((1, n_steps,1))\n",
        "       yhat = model.predict(x_input, verbose=0)\n",
        "       print(yhat[0])\n",
        "       temp_input.extend(yhat[0].tolist()) \n",
        "       print(len(temp_input))\n",
        "       lst_output.extend(yhat.tolist())\n",
        "       i=i+1"
      ],
      "metadata": {
        "colab": {
          "base_uri": "https://localhost:8080/"
        },
        "id": "ULCbP4K1LlBQ",
        "outputId": "e2f8440c-1824-4a17-affe-7f590e50d2b2"
      },
      "execution_count": 35,
      "outputs": [
        {
          "output_type": "stream",
          "name": "stdout",
          "text": [
            "[0.4659898]\n",
            "11\n",
            "1 day input [0.4811195  0.49726048 0.46794017 0.47297497 0.47119799 0.47341922\n",
            " 0.46497853 0.47038353 0.47149415 0.4659898 ]\n",
            "1 day output [[0.46034333]]\n",
            "2 day input [0.49726048 0.46794017 0.47297497 0.47119799 0.47341922 0.46497853\n",
            " 0.47038353 0.47149415 0.4659898  0.46034333]\n",
            "2 day output [[0.4540917]]\n",
            "3 day input [0.46794017 0.47297497 0.47119799 0.47341922 0.46497853 0.47038353\n",
            " 0.47149415 0.4659898  0.46034333 0.4540917 ]\n",
            "3 day output [[0.44756895]]\n",
            "4 day input [0.47297497 0.47119799 0.47341922 0.46497853 0.47038353 0.47149415\n",
            " 0.4659898  0.46034333 0.4540917  0.44756895]\n",
            "4 day output [[0.4414661]]\n",
            "5 day input [0.47119799 0.47341922 0.46497853 0.47038353 0.47149415 0.4659898\n",
            " 0.46034333 0.4540917  0.44756895 0.44146609]\n",
            "5 day output [[0.4359197]]\n",
            "6 day input [0.47341922 0.46497853 0.47038353 0.47149415 0.4659898  0.46034333\n",
            " 0.4540917  0.44756895 0.44146609 0.4359197 ]\n",
            "6 day output [[0.4309999]]\n",
            "7 day input [0.46497853 0.47038353 0.47149415 0.4659898  0.46034333 0.4540917\n",
            " 0.44756895 0.44146609 0.4359197  0.4309999 ]\n",
            "7 day output [[0.42661995]]\n",
            "8 day input [0.47038353 0.47149415 0.4659898  0.46034333 0.4540917  0.44756895\n",
            " 0.44146609 0.4359197  0.4309999  0.42661995]\n",
            "8 day output [[0.42272353]]\n",
            "9 day input [0.47149415 0.4659898  0.46034333 0.4540917  0.44756895 0.44146609\n",
            " 0.4359197  0.4309999  0.42661995 0.42272353]\n",
            "9 day output [[0.41907912]]\n"
          ]
        }
      ]
    },
    {
      "cell_type": "code",
      "source": [
        "day_new=np.arange(1,11) \n",
        "day_pred=np.arange(11,21)\n",
        "len(data_oil)\n",
        "plt.plot(day_new, scaler.inverse_transform(data_oil[8206:])) \n",
        "plt.plot(day_pred, scaler.inverse_transform(lst_output))"
      ],
      "metadata": {
        "colab": {
          "base_uri": "https://localhost:8080/",
          "height": 282
        },
        "id": "0O0jGgIjL67v",
        "outputId": "86c834c1-e8d5-4a7e-91bc-40a0ad5786fa"
      },
      "execution_count": 36,
      "outputs": [
        {
          "output_type": "execute_result",
          "data": {
            "text/plain": [
              "[<matplotlib.lines.Line2D at 0x7f8eac506ed0>]"
            ]
          },
          "metadata": {},
          "execution_count": 36
        },
        {
          "output_type": "display_data",
          "data": {
            "text/plain": [
              "<Figure size 432x288 with 1 Axes>"
            ],
            "image/png": "[encoded data removed]"
          },
          "metadata": {
            "needs_background": "light"
          }
        }
      ]
    },
    {
      "cell_type": "code",
      "source": [
        "df3=data_oil.tolist() \n",
        "df3.extend(lst_output) \n",
        "plt.plot(df3[8100:])"
      ],
      "metadata": {
        "id": "SR0uR3ytMD7f",
        "colab": {
          "base_uri": "https://localhost:8080/",
          "height": 282
        },
        "outputId": "f310e495-21ce-45fc-e2c3-f6f598a62b26"
      },
      "execution_count": 37,
      "outputs": [
        {
          "output_type": "execute_result",
          "data": {
            "text/plain": [
              "[<matplotlib.lines.Line2D at 0x7f8eac513b10>]"
            ]
          },
          "metadata": {},
          "execution_count": 37
        },
        {
          "output_type": "display_data",
          "data": {
            "text/plain": [
              "<Figure size 432x288 with 1 Axes>"
            ],
            "image/png": "[encoded data removed]"
          },
          "metadata": {
            "needs_background": "light"
          }
        }
      ]
    },
    {
      "cell_type": "code",
      "source": [
        "df3=scaler.inverse_transform(df3).tolist()"
      ],
      "metadata": {
        "id": "qVvbsTl2MHyJ"
      },
      "execution_count": 38,
      "outputs": []
    },
    {
      "cell_type": "code",
      "source": [
        "plt.plot(scaler.inverse_transform(data_oil))"
      ],
      "metadata": {
        "id": "fY2QI3mJRQfn",
        "colab": {
          "base_uri": "https://localhost:8080/",
          "height": 282
        },
        "outputId": "432a1434-1492-4fcc-f5dc-01577a28b0d9"
      },
      "execution_count": 39,
      "outputs": [
        {
          "output_type": "execute_result",
          "data": {
            "text/plain": [
              "[<matplotlib.lines.Line2D at 0x7f8eac51a990>]"
            ]
          },
          "metadata": {},
          "execution_count": 39
        },
        {
          "output_type": "display_data",
          "data": {
            "text/plain": [
              "<Figure size 432x288 with 1 Axes>"
            ],
            "image/png": "[encoded data removed]"
          },
          "metadata": {
            "needs_background": "light"
          }
        }
      ]
    }
  ]
}